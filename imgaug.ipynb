{
 "cells": [
  {
   "cell_type": "code",
   "execution_count": 5,
   "metadata": {},
   "outputs": [
    {
     "ename": "ModuleNotFoundError",
     "evalue": "No module named 'qudida'",
     "output_type": "error",
     "traceback": [
      "\u001b[1;31m---------------------------------------------------------------------------\u001b[0m",
      "\u001b[1;31mModuleNotFoundError\u001b[0m                       Traceback (most recent call last)",
      "\u001b[1;32mc:\\Users\\R\\Desktop\\mycode\\imgaug.ipynb Cell 1'\u001b[0m in \u001b[0;36m<cell line: 3>\u001b[1;34m()\u001b[0m\n\u001b[0;32m      <a href='vscode-notebook-cell:/c%3A/Users/R/Desktop/mycode/imgaug.ipynb#ch0000000?line=0'>1</a>\u001b[0m \u001b[39mimport\u001b[39;00m \u001b[39mcv2\u001b[39;00m\n\u001b[0;32m      <a href='vscode-notebook-cell:/c%3A/Users/R/Desktop/mycode/imgaug.ipynb#ch0000000?line=1'>2</a>\u001b[0m \u001b[39mimport\u001b[39;00m \u001b[39mnumpy\u001b[39;00m \u001b[39mas\u001b[39;00m \u001b[39mnp\u001b[39;00m\n\u001b[1;32m----> <a href='vscode-notebook-cell:/c%3A/Users/R/Desktop/mycode/imgaug.ipynb#ch0000000?line=2'>3</a>\u001b[0m \u001b[39mimport\u001b[39;00m \u001b[39malbumentations\u001b[39;00m \u001b[39mas\u001b[39;00m \u001b[39mA\u001b[39;00m\n\u001b[0;32m      <a href='vscode-notebook-cell:/c%3A/Users/R/Desktop/mycode/imgaug.ipynb#ch0000000?line=3'>4</a>\u001b[0m \u001b[39mimport\u001b[39;00m \u001b[39mos\u001b[39;00m\n\u001b[0;32m      <a href='vscode-notebook-cell:/c%3A/Users/R/Desktop/mycode/imgaug.ipynb#ch0000000?line=5'>6</a>\u001b[0m \u001b[39m##증식정의\u001b[39;00m\n",
      "File \u001b[1;32mc:\\Users\\R\\anaconda3\\envs\\yolo\\lib\\site-packages\\albumentations\\__init__.py:8\u001b[0m, in \u001b[0;36m<module>\u001b[1;34m\u001b[0m\n\u001b[0;32m      <a href='file:///c%3A/Users/R/anaconda3/envs/yolo/lib/site-packages/albumentations/__init__.py?line=5'>6</a>\u001b[0m \u001b[39mfrom\u001b[39;00m \u001b[39m.\u001b[39;00m\u001b[39mcore\u001b[39;00m\u001b[39m.\u001b[39;00m\u001b[39mtransforms_interface\u001b[39;00m \u001b[39mimport\u001b[39;00m \u001b[39m*\u001b[39m\n\u001b[0;32m      <a href='file:///c%3A/Users/R/anaconda3/envs/yolo/lib/site-packages/albumentations/__init__.py?line=6'>7</a>\u001b[0m \u001b[39mfrom\u001b[39;00m \u001b[39m.\u001b[39;00m\u001b[39mcore\u001b[39;00m\u001b[39m.\u001b[39;00m\u001b[39mserialization\u001b[39;00m \u001b[39mimport\u001b[39;00m \u001b[39m*\u001b[39m\n\u001b[1;32m----> <a href='file:///c%3A/Users/R/anaconda3/envs/yolo/lib/site-packages/albumentations/__init__.py?line=7'>8</a>\u001b[0m \u001b[39mfrom\u001b[39;00m \u001b[39m.\u001b[39;00m\u001b[39maugmentations\u001b[39;00m \u001b[39mimport\u001b[39;00m \u001b[39m*\u001b[39m\n\u001b[0;32m     <a href='file:///c%3A/Users/R/anaconda3/envs/yolo/lib/site-packages/albumentations/__init__.py?line=9'>10</a>\u001b[0m \u001b[39mtry\u001b[39;00m:\n\u001b[0;32m     <a href='file:///c%3A/Users/R/anaconda3/envs/yolo/lib/site-packages/albumentations/__init__.py?line=10'>11</a>\u001b[0m     \u001b[39mfrom\u001b[39;00m \u001b[39m.\u001b[39;00m\u001b[39mimgaug\u001b[39;00m\u001b[39m.\u001b[39;00m\u001b[39mtransforms\u001b[39;00m \u001b[39mimport\u001b[39;00m \u001b[39m*\u001b[39m  \u001b[39m# type: ignore\u001b[39;00m\n",
      "File \u001b[1;32mc:\\Users\\R\\anaconda3\\envs\\yolo\\lib\\site-packages\\albumentations\\augmentations\\__init__.py:8\u001b[0m, in \u001b[0;36m<module>\u001b[1;34m\u001b[0m\n\u001b[0;32m      <a href='file:///c%3A/Users/R/anaconda3/envs/yolo/lib/site-packages/albumentations/augmentations/__init__.py?line=4'>5</a>\u001b[0m \u001b[39mfrom\u001b[39;00m \u001b[39m.\u001b[39;00m\u001b[39mtransforms\u001b[39;00m \u001b[39mimport\u001b[39;00m \u001b[39m*\u001b[39m\n\u001b[0;32m      <a href='file:///c%3A/Users/R/anaconda3/envs/yolo/lib/site-packages/albumentations/augmentations/__init__.py?line=6'>7</a>\u001b[0m \u001b[39m# New transformations goes to individual files listed below\u001b[39;00m\n\u001b[1;32m----> <a href='file:///c%3A/Users/R/anaconda3/envs/yolo/lib/site-packages/albumentations/augmentations/__init__.py?line=7'>8</a>\u001b[0m \u001b[39mfrom\u001b[39;00m \u001b[39m.\u001b[39;00m\u001b[39mdomain_adaptation\u001b[39;00m \u001b[39mimport\u001b[39;00m \u001b[39m*\u001b[39m\n\u001b[0;32m     <a href='file:///c%3A/Users/R/anaconda3/envs/yolo/lib/site-packages/albumentations/augmentations/__init__.py?line=9'>10</a>\u001b[0m \u001b[39mfrom\u001b[39;00m \u001b[39m.\u001b[39;00m\u001b[39mgeometric\u001b[39;00m\u001b[39m.\u001b[39;00m\u001b[39mtransforms\u001b[39;00m \u001b[39mimport\u001b[39;00m \u001b[39m*\u001b[39m\n\u001b[0;32m     <a href='file:///c%3A/Users/R/anaconda3/envs/yolo/lib/site-packages/albumentations/augmentations/__init__.py?line=10'>11</a>\u001b[0m \u001b[39mfrom\u001b[39;00m \u001b[39m.\u001b[39;00m\u001b[39mgeometric\u001b[39;00m\u001b[39m.\u001b[39;00m\u001b[39mfunctional\u001b[39;00m \u001b[39mimport\u001b[39;00m \u001b[39m*\u001b[39m\n",
      "File \u001b[1;32mc:\\Users\\R\\anaconda3\\envs\\yolo\\lib\\site-packages\\albumentations\\augmentations\\domain_adaptation.py:6\u001b[0m, in \u001b[0;36m<module>\u001b[1;34m\u001b[0m\n\u001b[0;32m      <a href='file:///c%3A/Users/R/anaconda3/envs/yolo/lib/site-packages/albumentations/augmentations/domain_adaptation.py?line=3'>4</a>\u001b[0m \u001b[39mimport\u001b[39;00m \u001b[39mcv2\u001b[39;00m\n\u001b[0;32m      <a href='file:///c%3A/Users/R/anaconda3/envs/yolo/lib/site-packages/albumentations/augmentations/domain_adaptation.py?line=4'>5</a>\u001b[0m \u001b[39mimport\u001b[39;00m \u001b[39mnumpy\u001b[39;00m \u001b[39mas\u001b[39;00m \u001b[39mnp\u001b[39;00m\n\u001b[1;32m----> <a href='file:///c%3A/Users/R/anaconda3/envs/yolo/lib/site-packages/albumentations/augmentations/domain_adaptation.py?line=5'>6</a>\u001b[0m \u001b[39mfrom\u001b[39;00m \u001b[39mqudida\u001b[39;00m \u001b[39mimport\u001b[39;00m DomainAdapter\n\u001b[0;32m      <a href='file:///c%3A/Users/R/anaconda3/envs/yolo/lib/site-packages/albumentations/augmentations/domain_adaptation.py?line=6'>7</a>\u001b[0m \u001b[39mfrom\u001b[39;00m \u001b[39mskimage\u001b[39;00m\u001b[39m.\u001b[39;00m\u001b[39mexposure\u001b[39;00m \u001b[39mimport\u001b[39;00m match_histograms\n\u001b[0;32m      <a href='file:///c%3A/Users/R/anaconda3/envs/yolo/lib/site-packages/albumentations/augmentations/domain_adaptation.py?line=7'>8</a>\u001b[0m \u001b[39mfrom\u001b[39;00m \u001b[39msklearn\u001b[39;00m\u001b[39m.\u001b[39;00m\u001b[39mdecomposition\u001b[39;00m \u001b[39mimport\u001b[39;00m PCA\n",
      "\u001b[1;31mModuleNotFoundError\u001b[0m: No module named 'qudida'"
     ]
    }
   ],
   "source": [
    "import cv2\n",
    "import numpy as np\n",
    "import albumentations as A\n",
    "import os\n",
    "\n",
    "##증식정의\n",
    "\n",
    "transform = A.Compose([\n",
    "        A.HorizontalFlip(p=0.5),\n",
    "        A.HueSaturationValue(p=0.5),\n",
    "        A.OneOf([\n",
    "            A.GaussianBlur(p=0.1),\n",
    "            A.GaussNoise(p=0.3),\n",
    "            A.ToGray(p=0.2),\n",
    "            A.Rotate(45,border_mode=cv2.BORDER_CONSTANT,p=0.4)\n",
    "        ], p=0.3),\n",
    "        A.OneOf([\n",
    "            A.MotionBlur(p=.2),\n",
    "            A.MedianBlur(blur_limit=3, p=0.1),\n",
    "            A.Blur(blur_limit=3, p=0.3),\n",
    "            A.Rotate(45,border_mode=cv2.BORDER_CONSTANT,p=0.4)\n",
    "        ], p=0.4),\n",
    "        A.OneOf([\n",
    "            A.CLAHE(clip_limit=2),\n",
    "            A.Sharpen(p=0.3),\n",
    "            A.Emboss(p=0.3),\n",
    "            A.RandomBrightnessContrast(p=0.3),\n",
    "            A.Rotate(45,border_mode=cv2.BORDER_CONSTANT,p=0.4)\n",
    "                      \n",
    "        ], p=0.3),\n",
    "    ], bbox_params=A.BboxParams(format=\"yolo\"))\n",
    "\n",
    "## 이미지 읽어오고 레이블 파일 가져오기\n",
    "\n",
    "def imgaug(\n",
    "    n=5,\n",
    "    imgs_path = \"C:/Users/R/Desktop/earpods/images/\",\n",
    "    lbs_path = \"C:/Users/R/Desktop/earpods/labels/\",\n",
    "    imgs_save_path = \"C:/Users/R/Desktop/mycode/data/imgaug/images/\",\n",
    "    lbs_save_path = \"C:/Users/R/Desktop/mycode/data/imgaug/labels/\",\n",
    "    label_fields =[\"0\",\"1\",\"2\",\"3\"]    \n",
    "):\n",
    "    exts = [\".jpg\",\".png\",\".jpeg\",\".gif\"]\n",
    "    for image, label in zip(os.listdir(imgs_path),os.listdir(lbs_path)):\n",
    "        for ext in exts:\n",
    "            if ext in image:\n",
    "                ext_none = image.replace(ext,\"\")\n",
    "            \n",
    "            lb_file_name = ext_none+\".txt\"\n",
    "            img = cv2.imread(imgs_path+image)\n",
    "            bboxes =[]\n",
    "            with open(lbs_path+lb_file_name,\"r\")as f:\n",
    "                for line in f.readlines():\n",
    "                    ele = line.strip().split(\" \")\n",
    "                    label =[]\n",
    "                    bbox=[]\n",
    "                    c=int(ele[0])\n",
    "                    x=float(ele[1])\n",
    "                    y=float(ele[2])\n",
    "                    w=float(ele[3])\n",
    "                    h=float(ele[4])\n",
    "                    bbox=[x,y,w,h,c]\n",
    "                    bboxes.append(bbox)\n",
    "                    \n",
    "            ## 파이프 라인 통과 시켜 이미지, 라벨 데이터 증식\n",
    "            ## 한 사진을 n개 증식시킴\n",
    "            \n",
    "        for i in range(1,n+1):\n",
    "            transformed = transform(image = img, bboxes=bboxes, label_fields =label_fields)\n",
    "            transformed_image = transformed[\"image\"]\n",
    "            transformed_bboxes = transformed[\"bboxes\"]\n",
    "        \n",
    "            cv2.imwrite(imgs_save_path+ext_none+\"aug\"+str(i)+\".jpg\",transformed_image)\n",
    "\n",
    "\n",
    "            with open(lbs_save_path+ext_none+\"aug\"+str(i)+\".txt\", \"w\")as f:\n",
    "                for line in transformed_bboxes:\n",
    "                    x_center = str(line[0])\n",
    "                    y_center = str(line[1])\n",
    "                    width = str(line[2])\n",
    "                    height = str(line[3])\n",
    "                    cls = str(line[4])\n",
    "                    \n",
    "                    f.write(cls+\" \")\n",
    "                    f.write(x_center+\" \")\n",
    "                    f.write(y_center+\" \")\n",
    "                    f.write(width+\" \")\n",
    "                    f.write(height+\"\\n\")\n",
    "            print(\"{} 파일 {}개 증식 완료\".format(image,i))\n",
    "            \n",
    "        print(\"=============================================================================================\")\n",
    "            \n",
    "    \n",
    "\n"
   ]
  },
  {
   "cell_type": "code",
   "execution_count": 2,
   "metadata": {},
   "outputs": [],
   "source": [
    "imgs_path = \"C:/Users/R/Desktop/test/o_i\"\n",
    "lbs_path = \"C:/Users/R/Desktop/test/o_l\"\n",
    "imgs_save_path = \"C:/Users/R/Desktop/test/images/\"\n",
    "lbs_save_path = \"C:/Users/R/Desktop/test/labels/\""
   ]
  },
  {
   "cell_type": "code",
   "execution_count": 3,
   "metadata": {},
   "outputs": [
    {
     "ename": "NameError",
     "evalue": "name 'imgaug' is not defined",
     "output_type": "error",
     "traceback": [
      "\u001b[1;31m---------------------------------------------------------------------------\u001b[0m",
      "\u001b[1;31mNameError\u001b[0m                                 Traceback (most recent call last)",
      "\u001b[1;32mc:\\Users\\R\\Desktop\\mycode\\imgaug.ipynb Cell 3'\u001b[0m in \u001b[0;36m<cell line: 2>\u001b[1;34m()\u001b[0m\n\u001b[0;32m      <a href='vscode-notebook-cell:/c%3A/Users/R/Desktop/mycode/imgaug.ipynb#ch0000002?line=0'>1</a>\u001b[0m \u001b[39m# 한 사진을 n개 증식\u001b[39;00m\n\u001b[1;32m----> <a href='vscode-notebook-cell:/c%3A/Users/R/Desktop/mycode/imgaug.ipynb#ch0000002?line=1'>2</a>\u001b[0m imgaug(n\u001b[39m=\u001b[39m\u001b[39m3\u001b[39m, imgs_path\u001b[39m=\u001b[39mimgs_path, lbs_path\u001b[39m=\u001b[39mlbs_path, imgs_save_path\u001b[39m=\u001b[39mimgs_save_path, lbs_save_path\u001b[39m=\u001b[39mlbs_save_path)\n",
      "\u001b[1;31mNameError\u001b[0m: name 'imgaug' is not defined"
     ]
    }
   ],
   "source": [
    "# 한 사진을 n개 증식\n",
    "imgaug(n=3, imgs_path=imgs_path, lbs_path=lbs_path, imgs_save_path=imgs_save_path, lbs_save_path=lbs_save_path) "
   ]
  },
  {
   "cell_type": "code",
   "execution_count": null,
   "metadata": {},
   "outputs": [],
   "source": [
    "## train, val 경로 만들기\n",
    "import os\n",
    "path = \"C:\\\\Users\\\\R\\\\Desktop\\\\helmet-crawler\\\\helmet\"\n",
    "\n",
    "with open(\"C:\\\\Users\\\\R\\\\Desktop\\\\helmet-crawler\\\\train.txt\",\"w\") as f:\n",
    "    for file in os.listdir(path):\n",
    "        f.write(os.path.join(path,file)+\"\\n\")\n",
    "        \n",
    "## val도 위와 같이 경로만 달리해서 val.txt로 저장하기"
   ]
  }
 ],
 "metadata": {
  "interpreter": {
   "hash": "4f26e831d8f05031bdc9c2af88bd84224c7b5b7b36eae31b041e03082b0691d5"
  },
  "kernelspec": {
   "display_name": "yolo",
   "language": "python",
   "name": "yolo"
  },
  "language_info": {
   "codemirror_mode": {
    "name": "ipython",
    "version": 3
   },
   "file_extension": ".py",
   "mimetype": "text/x-python",
   "name": "python",
   "nbconvert_exporter": "python",
   "pygments_lexer": "ipython3",
   "version": "3.9.12"
  },
  "orig_nbformat": 4
 },
 "nbformat": 4,
 "nbformat_minor": 2
}
