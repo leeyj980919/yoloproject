{
 "cells": [
  {
   "cell_type": "code",
   "execution_count": 4,
   "metadata": {},
   "outputs": [],
   "source": [
    "import cv2"
   ]
  },
  {
   "cell_type": "code",
   "execution_count": 1,
   "metadata": {},
   "outputs": [],
   "source": [
    "## 프레임 단위로 영상 저장\n",
    "def saveFrame(\n",
    "  videopath=\"\", ##비디오 위치\n",
    "  savepath=\"\", ##저장할 위치\n",
    "  filename=\"mypic\", ##파일이름 초기값 mypic\n",
    "  f = 10 ## 몇 프레임 당 한장 저장?\n",
    "):\n",
    "  vidcap = cv2.VideoCapture(videopath)\n",
    "  fps = vidcap.get(cv2.CAP_PROP_FPS)\n",
    "  print(\"초당 프레임:{:.1f} \".format(fps))\n",
    "  success,image = vidcap.read()\n",
    "\n",
    "  count = 1\n",
    "  success = True\n",
    "  try:\n",
    "    while success:\n",
    "      success,image = vidcap.read()\n",
    "      ## \n",
    "      if count%f==0:\n",
    "        cv2.imwrite((savepath+filename+\"%d.jpg\"%((count/f))), image)\n",
    "        print(\"파일저장 성공: {}{:.0f}.jpg\".format(filename,count/f))\n",
    "      \n",
    "      count += 1\n",
    "  except:\n",
    "    pass"
   ]
  },
  {
   "cell_type": "code",
   "execution_count": 8,
   "metadata": {},
   "outputs": [],
   "source": [
    "## 비디오위치, 저정할위치, 파일이름, 프레임 단위(몇 프레임에 한 장 저장 할 건지)\n",
    "videopath = r\"C:\\Users\\R\\Desktop\\asd/woo.mp4\"\n",
    "savepath = r\"C:\\Users\\R\\Desktop\\asd/images/\"\n",
    "filename=\"earphone_woo\"\n",
    "f = 10"
   ]
  },
  {
   "cell_type": "code",
   "execution_count": 9,
   "metadata": {},
   "outputs": [
    {
     "name": "stdout",
     "output_type": "stream",
     "text": [
      "초당 프레임:30.0 \n",
      "파일저장 성공: earphone_woo1.jpg\n",
      "파일저장 성공: earphone_woo2.jpg\n",
      "파일저장 성공: earphone_woo3.jpg\n",
      "파일저장 성공: earphone_woo4.jpg\n",
      "파일저장 성공: earphone_woo5.jpg\n",
      "파일저장 성공: earphone_woo6.jpg\n",
      "파일저장 성공: earphone_woo7.jpg\n",
      "파일저장 성공: earphone_woo8.jpg\n",
      "파일저장 성공: earphone_woo9.jpg\n",
      "파일저장 성공: earphone_woo10.jpg\n",
      "파일저장 성공: earphone_woo11.jpg\n",
      "파일저장 성공: earphone_woo12.jpg\n",
      "파일저장 성공: earphone_woo13.jpg\n",
      "파일저장 성공: earphone_woo14.jpg\n",
      "파일저장 성공: earphone_woo15.jpg\n",
      "파일저장 성공: earphone_woo16.jpg\n",
      "파일저장 성공: earphone_woo17.jpg\n",
      "파일저장 성공: earphone_woo18.jpg\n",
      "파일저장 성공: earphone_woo19.jpg\n",
      "파일저장 성공: earphone_woo20.jpg\n",
      "파일저장 성공: earphone_woo21.jpg\n",
      "파일저장 성공: earphone_woo22.jpg\n",
      "파일저장 성공: earphone_woo23.jpg\n",
      "파일저장 성공: earphone_woo24.jpg\n",
      "파일저장 성공: earphone_woo25.jpg\n",
      "파일저장 성공: earphone_woo26.jpg\n",
      "파일저장 성공: earphone_woo27.jpg\n",
      "파일저장 성공: earphone_woo28.jpg\n",
      "파일저장 성공: earphone_woo29.jpg\n",
      "파일저장 성공: earphone_woo30.jpg\n",
      "파일저장 성공: earphone_woo31.jpg\n",
      "파일저장 성공: earphone_woo32.jpg\n",
      "파일저장 성공: earphone_woo33.jpg\n",
      "파일저장 성공: earphone_woo34.jpg\n",
      "파일저장 성공: earphone_woo35.jpg\n",
      "파일저장 성공: earphone_woo36.jpg\n",
      "파일저장 성공: earphone_woo37.jpg\n",
      "파일저장 성공: earphone_woo38.jpg\n",
      "파일저장 성공: earphone_woo39.jpg\n",
      "파일저장 성공: earphone_woo40.jpg\n",
      "파일저장 성공: earphone_woo41.jpg\n",
      "파일저장 성공: earphone_woo42.jpg\n",
      "파일저장 성공: earphone_woo43.jpg\n",
      "파일저장 성공: earphone_woo44.jpg\n",
      "파일저장 성공: earphone_woo45.jpg\n",
      "파일저장 성공: earphone_woo46.jpg\n",
      "파일저장 성공: earphone_woo47.jpg\n",
      "파일저장 성공: earphone_woo48.jpg\n",
      "파일저장 성공: earphone_woo49.jpg\n",
      "파일저장 성공: earphone_woo50.jpg\n",
      "파일저장 성공: earphone_woo51.jpg\n",
      "파일저장 성공: earphone_woo52.jpg\n",
      "파일저장 성공: earphone_woo53.jpg\n",
      "파일저장 성공: earphone_woo54.jpg\n",
      "파일저장 성공: earphone_woo55.jpg\n",
      "파일저장 성공: earphone_woo56.jpg\n",
      "파일저장 성공: earphone_woo57.jpg\n",
      "파일저장 성공: earphone_woo58.jpg\n",
      "파일저장 성공: earphone_woo59.jpg\n",
      "파일저장 성공: earphone_woo60.jpg\n",
      "파일저장 성공: earphone_woo61.jpg\n",
      "파일저장 성공: earphone_woo62.jpg\n",
      "파일저장 성공: earphone_woo63.jpg\n",
      "파일저장 성공: earphone_woo64.jpg\n",
      "파일저장 성공: earphone_woo65.jpg\n",
      "파일저장 성공: earphone_woo66.jpg\n",
      "파일저장 성공: earphone_woo67.jpg\n",
      "파일저장 성공: earphone_woo68.jpg\n",
      "파일저장 성공: earphone_woo69.jpg\n",
      "파일저장 성공: earphone_woo70.jpg\n",
      "파일저장 성공: earphone_woo71.jpg\n",
      "파일저장 성공: earphone_woo72.jpg\n",
      "파일저장 성공: earphone_woo73.jpg\n",
      "파일저장 성공: earphone_woo74.jpg\n",
      "파일저장 성공: earphone_woo75.jpg\n",
      "파일저장 성공: earphone_woo76.jpg\n",
      "파일저장 성공: earphone_woo77.jpg\n",
      "파일저장 성공: earphone_woo78.jpg\n",
      "파일저장 성공: earphone_woo79.jpg\n",
      "파일저장 성공: earphone_woo80.jpg\n",
      "파일저장 성공: earphone_woo81.jpg\n",
      "파일저장 성공: earphone_woo82.jpg\n",
      "파일저장 성공: earphone_woo83.jpg\n",
      "파일저장 성공: earphone_woo84.jpg\n",
      "파일저장 성공: earphone_woo85.jpg\n",
      "파일저장 성공: earphone_woo86.jpg\n",
      "파일저장 성공: earphone_woo87.jpg\n",
      "파일저장 성공: earphone_woo88.jpg\n",
      "파일저장 성공: earphone_woo89.jpg\n"
     ]
    }
   ],
   "source": [
    "##함수실행\n",
    "saveFrame(videopath=videopath, savepath=savepath,filename=filename,f=f)"
   ]
  },
  {
   "cell_type": "code",
   "execution_count": null,
   "metadata": {},
   "outputs": [],
   "source": []
  }
 ],
 "metadata": {
  "interpreter": {
   "hash": "4f26e831d8f05031bdc9c2af88bd84224c7b5b7b36eae31b041e03082b0691d5"
  },
  "kernelspec": {
   "display_name": "Python 3.9.12 ('yolo')",
   "language": "python",
   "name": "python3"
  },
  "language_info": {
   "codemirror_mode": {
    "name": "ipython",
    "version": 3
   },
   "file_extension": ".py",
   "mimetype": "text/x-python",
   "name": "python",
   "nbconvert_exporter": "python",
   "pygments_lexer": "ipython3",
   "version": "3.9.12"
  },
  "orig_nbformat": 4
 },
 "nbformat": 4,
 "nbformat_minor": 2
}
